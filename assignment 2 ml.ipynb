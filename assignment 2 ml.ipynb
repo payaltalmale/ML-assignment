{
 "cells": [
  {
   "cell_type": "markdown",
   "id": "a77034ec",
   "metadata": {},
   "source": [
    "# 1. What is the concept of human learning? Please give two examples.\n",
    "\n",
    "\n",
    "Many examples of this case are found in case of human learning. Learning to drive a motor-car, typewriting, singing or memorizing a poem or a mathematical table, and music etc. need exercise and repetition of various movements and actions many times."
   ]
  },
  {
   "cell_type": "markdown",
   "id": "6296d2cb",
   "metadata": {},
   "source": [
    "# 3. What is machine learning, and how does it work? What are the key responsibilities of machine learning?\n",
    "\n",
    "Machine Learning is an AI technique that teaches computers to learn from experience. Machine learning algorithms use computational methods to “learn” information directly from data without relying on a predetermined equation as a model.\n",
    "\n",
    "3 steps to training a machine learning model\n",
    "Step 1: Begin with existing data\n",
    "Step 2: Analyze data to identify patterns\n",
    "Step 3: Make predictions\n",
    "\n"
   ]
  },
  {
   "cell_type": "markdown",
   "id": "b19e373c",
   "metadata": {},
   "source": [
    "# Define the terms penalty and reward in the context of reinforcement learning.\n",
    "\n",
    "Reinforcement learning is all about gamifying the learning process. This type of machine learning uses a reward-penalty method to teach an AI system. If it makes the right move, it gets rewarded. If it makes a mistake, it receives a penalty.23-Apr-2021"
   ]
  },
  {
   "cell_type": "markdown",
   "id": "4f1e36a3",
   "metadata": {},
   "source": [
    "# 5. Explain the term learning as a search?\n",
    "\n",
    "Concept learning can be viewed as the task of searching through a large space of hypotheses implicitly defined by the hypothesis representation. The goal of this search is to find the hypothesis that best fits the training examples."
   ]
  },
  {
   "cell_type": "markdown",
   "id": "4a52d218",
   "metadata": {},
   "source": [
    "# 6. What are the various goals of machine learning? What is the relationship between these and human learning?\n",
    "\n",
    "\n",
    "The goal of ML, in simples words, is to understand the nature of (human and other forms of) learning, and to build learning capability in computers. To be more specific, there are three aspects of the goals\n",
    "of ML.\n",
    "(1) To make the computers smarter, more intelligent. The more direct objective in this aspect is to\n",
    "develop systems (programs) for specific practical learning tasks in application domains.\n",
    "(2) To dev elop computational models of human learning process and perform computer simulations.\n",
    "The study in this aspect is also called cognitive modeling.\n",
    "(3) To explore new learning\n",
    "\n",
    "##What is the relationship between these and human learning?\n",
    "\n",
    "Humans acquire knowledge through experience either directly or shared by others. Machines acquire knowledge through experience shared in the form of past data."
   ]
  },
  {
   "cell_type": "markdown",
   "id": "9acc0695",
   "metadata": {},
   "source": [
    "# 7. Illustrate the various elements of machine learning using a real-life illustration.\n",
    "\n",
    "\n",
    "##1. Image recognition: \n",
    "Image recognition is a well-known and widespread example of machine learning in the real world. It can identify an object as a digital image, based on the intensity of the pixels in black and white images or colour images.\n",
    " \n",
    "##2. Speech recognition:\n",
    "Machine learning can translate speech into text. Certain software applications can convert live voice and recorded speech into a text file. The speech can be segmented by intensities on time-frequency bands as well.\n",
    "\n",
    "##3. Medical diagnosis:\n",
    "Machine learning can help with the diagnosis of diseases. Many physicians use chatbots with speech recognition capabilities to discern patterns in symptoms.\n",
    "\n",
    "##4. Statistical arbitrage:\n",
    "Arbitrage is an automated trading strategy that’s used in finance to manage a large volume of securities. The strategy uses a trading algorithm to analyse a set of securities using economic variables and correlations.\n",
    " \n",
    "##5. Predictive analytics:\n",
    "Machine learning can classify available data into groups, which are then defined by rules set by analysts. When the classification is complete, the analysts can calculate the probability of a fault.\n",
    " \n",
    "##6. Extraction:\n",
    "Machine learning can extract structured information from unstructured data. Organisations amass huge volumes of data from customers. A machine learning algorithm automates the process of annotating datasets for predictive analytics tools.\n",
    " \n",
    "\n",
    "Real-world examples of extraction:\n",
    "\n",
    "Generate a model to predict vocal cord disorders\n",
    "Develop methods to prevent, diagnose, and treat the disorders\n",
    "Help physicians diagnose and treat problems quickly\n",
    "\n"
   ]
  },
  {
   "cell_type": "markdown",
   "id": "a3b2a1cd",
   "metadata": {},
   "source": [
    "# 8.Provide an example of the abstraction method.\n",
    "\n",
    "Abstraction means displaying only essential information and hiding the details. Data abstraction refers to providing only essential information about the data to the outside world, hiding the background details or implementation. Consider a real-life example of a man driving a car."
   ]
  },
  {
   "cell_type": "markdown",
   "id": "2897116a",
   "metadata": {},
   "source": [
    "# 9. What is the concept of generalization? What function does it play in the machine learning process?\n",
    "\n",
    "Generalization refers to your model's ability to adapt properly to new, previously unseen data, drawn from the same distribution as the one used to create the model. Develop intuition about overfitting. Determine whether a model is good or not. Divide a data set into a training set and a test set.\n"
   ]
  },
  {
   "cell_type": "markdown",
   "id": "1cff090f",
   "metadata": {},
   "source": [
    "# 10.What is classification, exactly? What are the main distinctions between classification and regression?\n",
    "\n",
    "Regression algorithms predict a continuous value based on the input variables. The main goal of regression problems is to estimate a mapping function based on the input and output variables. If your target variable is a quantity like income, scores, height or weight.\n",
    "\n",
    "Classification is a predictive model that approximates a mapping function from input variables to identify discrete output variables, which can be labels or categories. The mapping function of classification algorithms is responsible for predicting the label or category of the given input variables.\n"
   ]
  },
  {
   "cell_type": "markdown",
   "id": "e3335753",
   "metadata": {},
   "source": [
    "# 11. What is regression, and how does it work? Give an example of a real-world problem that was solved using regression.\n",
    "\n",
    "Regression allows researchers to predict or explain the variation in one variable based on another variable. Definitions: ❖ The variable that researchers are trying to explain or predict is called the response variable. It is also sometimes called the dependent variable because it depends on another variable.\n",
    "\n",
    "it can be used to predict the relationship between reckless driving and the total number of road accidents caused by a driver, or, to use a business example, the effect on sales and spending a certain amount of money on advertising. Regression is one of the most common models of machine learning."
   ]
  },
  {
   "cell_type": "markdown",
   "id": "aaaa8eb4",
   "metadata": {},
   "source": [
    "# 12. Describe the clustering mechanism in detail.\n",
    "\n",
    "Clustering is the task of dividing the population or data points into a number of groups such that data points in the same groups are more similar to other data points in the same group than those in other groups. In simple words, the aim is to segregate groups with similar traits and assign them into clusters"
   ]
  },
  {
   "cell_type": "markdown",
   "id": "9fe0a0fe",
   "metadata": {},
   "source": [
    "# 13. Make brief observations on two of the following topics:\n",
    "\n",
    "## i. Machine learning algorithms are used\n",
    "## ii. Studying under supervision\n",
    "## iii. Studying without supervision\n",
    "## iv. Reinforcement learning is a form of learning based on positive reinforcement."
   ]
  },
  {
   "cell_type": "markdown",
   "id": "742c5412",
   "metadata": {},
   "source": [
    "## i. Machine learning algorithms are used\n",
    "\n",
    "Machine Learning algorithms are the programs that can learn the hidden patterns from the data, predict the output, and improve the performance from experiences on their own. Different algorithms can be used in machine learning for different tasks, such as simple linear regression that can be used for prediction problems like stock market prediction, and the KNN algorithm can be used for classification problems.\n",
    "\n",
    "Machine Learning Algorithm can be broadly classified into two types:\n",
    "\n",
    "Supervised Learning Algorithms\n",
    "Unsupervised Learning Algorithms\n",
    "\n",
    "\n",
    "1) Supervised Learning Algorithm\n",
    "Supervised learning is a type of Machine learning in which the machine needs external supervision to learn. The supervised learning models are trained using the labeled dataset. Once the training and processing are done, the model is tested by providing a sample test data to check whether it predicts the correct output.\n",
    "\n",
    "The goal of supervised learning is to map input data with the output data. Supervised learning is based on supervision, and it is the same as when a student learns things in the teacher's supervision. The example of supervised learning is spam filtering.\n",
    "\n",
    "Supervised learning can be divided further into two categories of problem:\n",
    "\n",
    "Classification\n",
    "Regression\n",
    "Examples of some popular supervised learning algorithms are Simple Linear regression, Decision Tree, Logistic Regression, KNN algorithm, etc.\n",
    "\n",
    "\n",
    "2) Unsupervised Learning Algorithm\n",
    "It is a type of machine learning in which the machine does not need any external supervision to learn from the data, hence called unsupervised learning. The unsupervised models can be trained using the unlabelled dataset that is not classified, nor categorized, and the algorithm needs to act on that data without any supervision. In unsupervised learning, the model doesn't have a predefined output, and it tries to find useful insights from the huge amount of data. These are used to solve the Association and Clustering problems. Hence further, it can be classified into two types:\n",
    "\n",
    "Clustering\n",
    "Association\n",
    "\n",
    "1. Linear Regression\n",
    "Linear regression is one of the most popular and simple machine learning algorithms that is used for predictive analysis. Here, predictive analysis defines prediction of something, and linear regression makes predictions for continuous numbers such as salary, age, etc.\n",
    "\n",
    "It shows the linear relationship between the dependent and independent variables, and shows how the dependent variable(y) changes according to the independent variable (x).\n",
    "\n",
    "It tries to best fit a line between the dependent and independent variables, and this best fit line is knowns as the regression line.\n",
    "\n",
    "The equation for the regression line is:y= a0+ a*x+ b\n",
    "\n",
    "2. Logistic Regression\n",
    "Logistic regression is the supervised learning algorithm, which is used to predict the categorical variables or discrete values. It can be used for the classification problems in machine learning, and the output of the logistic regression algorithm can be either Yes or NO, 0 or 1, Red or Blue, etc.\n",
    "\n",
    "Logistic regression is similar to the linear regression except how they are used, such as Linear regression is used to solve the regression problem and predict continuous values, whereas Logistic regression is used to solve the Classification problem and used to predict the discrete values.\n",
    "\n",
    "Instead of fitting the best fit line, it forms an S-shaped curve that lies between 0 and 1. The S-shaped curve is also known as a logistic function that uses the concept of the threshold. Any value above the threshold will tend to 1, and below the threshold will tend to 0. Read more..\n",
    "\n",
    "3. Decision Tree Algorithm\n",
    "A decision tree is a supervised learning algorithm that is mainly used to solve the classification problems but can also be used for solving the regression problems. It can work with both categorical variables and continuous variables. It shows a tree-like structure that includes nodes and branches, and starts with the root node that expand on further branches till the leaf node. The internal node is used to represent the features of the dataset, branches show the decision rules, and leaf nodes represent the outcome of the problem.\n",
    "\n",
    "Some real-world applications of decision tree algorithms are identification between cancerous and non-cancerous cells, suggestions to customers to buy a car, etc. Read more..\n",
    "\n",
    "4. Support Vector Machine Algorithm\n",
    "A support vector machine or SVM is a supervised learning algorithm that can also be used for classification and regression problems. However, it is primarily used for classification problems. The goal of SVM is to create a hyperplane or decision boundary that can segregate datasets into different classes.\n",
    "\n",
    "The data points that help to define the hyperplane are known as support vectors, and hence it is named as support vector machine algorithm.\n",
    "\n",
    "Some real-life applications of SVM are face detection, image classification, Drug discovery, etc. Consider the below diagram:\n",
    "\n",
    "Machine Learning Algorithms\n",
    "As we can see in the above diagram, the hyperplane has classified datasets into two different classes. Read more..\n",
    "\n",
    "\n",
    "5. Naïve Bayes Algorithm:\n",
    "Naïve Bayes classifier is a supervised learning algorithm, which is used to make predictions based on the probability of the object. The algorithm named as Naïve Bayes as it is based on Bayes theorem, and follows the naïve assumption that says' variables are independent of each other.\n",
    "\n",
    "The Bayes theorem is based on the conditional probability; it means the likelihood that event(A) will happen, when it is given that event(B) has already happened. The equation for Bayes theorem is given as:\n",
    "\n",
    "Machine Learning Algorithms\n",
    "Naïve Bayes classifier is one of the best classifiers that provide a good result for a given problem. It is easy to build a naïve bayesian model, and well suited for the huge amount of dataset. It is mostly used for text classification. Read more..\n",
    "\n",
    "6. K-Nearest Neighbour (KNN)\n",
    "K-Nearest Neighbour is a supervised learning algorithm that can be used for both classification and regression problems. This algorithm works by assuming the similarities between the new data point and available data points. Based on these similarities, the new data points are put in the most similar categories. It is also known as the lazy learner algorithm as it stores all the available datasets and classifies each new case with the help of K-neighbours. The new case is assigned to the nearest class with most similarities, and any distance function measures the distance between the data points. The distance function can be Euclidean, Minkowski, Manhattan, or Hamming distance, based on the requirement. Read more..\n",
    "\n",
    "7. K-Means Clustering\n",
    "K-means clustering is one of the simplest unsupervised learning algorithms, which is used to solve the clustering problems. The datasets are grouped into K different clusters based on similarities and dissimilarities, it means, datasets with most of the commonalties remain in one cluster which has very less or no commonalities between other clusters. In K-means, K-refers to the number of clusters, and means refer to the averaging the dataset in order to find the centroid.\n",
    "\n",
    "It is a centroid-based algorithm, and each cluster is associated with a centroid. This algorithm aims to reduce the distance between the data points and their centroids within a cluster.\n",
    "\n",
    "This algorithm starts with a group of randomly selected centroids that form the clusters at starting and then perform the iterative process to optimize these centroids' positions.\n",
    "\n",
    "It can be used for spam detection and filtering, identification of fake news, etc. Read more..\n",
    "\n",
    "8. Random Forest Algorithm\n",
    "Random forest is the supervised learning algorithm that can be used for both classification and regression problems in machine learning. It is an ensemble learning technique that provides the predictions by combining the multiple classifiers and improve the performance of the model.\n",
    "\n",
    "It contains multiple decision trees for subsets of the given dataset, and find the average to improve the predictive accuracy of the model. A random-forest should contain 64-128 trees. The greater number of trees leads to higher accuracy of the algorithm.\n",
    "\n",
    "To classify a new dataset or object, each tree gives the classification result and based on the majority votes, the algorithm predicts the final output.\n",
    "\n",
    "Random forest is a fast algorithm, and can efficiently deal with the missing & incorrect data. Read more..\n",
    "\n",
    "9. Apriori Algorithm\n",
    "Apriori algorithm is the unsupervised learning algorithm that is used to solve the association problems. It uses frequent itemsets to generate association rules, and it is designed to work on the databases that contain transactions. With the help of these association rule, it determines how strongly or how weakly two objects are connected to each other. This algorithm uses a breadth-first search and Hash Tree to calculate the itemset efficiently.\n",
    "\n",
    "10. Principle Component Analysis\n",
    "Principle Component Analysis (PCA) is an unsupervised learning technique, which is used for dimensionality reduction. It helps in reducing the dimensionality of the dataset that contains many features correlated with each other. It is a statistical process that converts the observations of correlated features into a set of linearly uncorrelated features with the help of orthogonal transformation. It is one of the popular tools that is used for exploratory data analysis and predictive modeling."
   ]
  },
  {
   "cell_type": "markdown",
   "id": "fd26ade8",
   "metadata": {},
   "source": [
    " ## iv Reinforcement learning is a form of learning based on positive reinforcement.\n",
    " \n",
    " In reinforcement learning, developers devise a method of rewarding desired behaviors and punishing negative behaviors. This method assigns positive values to the desired actions to encourage the agent and negative values to undesired behaviors. This programs the agent to seek long-term and maximum overall reward to achieve an optimal solution.\n",
    "\n",
    "These long-term goals help prevent the agent from stalling on lesser goals. With time, the agent learns to avoid the negative and seek the positive. This learning method has been adopted in artificial intelligence (AI) as a way of directing unsupervised machine learning through rewards and penalties."
   ]
  }
 ],
 "metadata": {
  "kernelspec": {
   "display_name": "Python 3 (ipykernel)",
   "language": "python",
   "name": "python3"
  },
  "language_info": {
   "codemirror_mode": {
    "name": "ipython",
    "version": 3
   },
   "file_extension": ".py",
   "mimetype": "text/x-python",
   "name": "python",
   "nbconvert_exporter": "python",
   "pygments_lexer": "ipython3",
   "version": "3.9.13"
  }
 },
 "nbformat": 4,
 "nbformat_minor": 5
}
