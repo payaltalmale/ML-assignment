{
 "cells": [
  {
   "cell_type": "markdown",
   "id": "2797f55d",
   "metadata": {},
   "source": [
    "# Q1. Describe three applications for exception processing."
   ]
  },
  {
   "cell_type": "markdown",
   "id": "0e5517a0",
   "metadata": {},
   "source": [
    "exception handling is useful for dealing with exception that cannot be handled locally. instead of showing an error status in the program  , the exception handler  handle this error .\n",
    "\n",
    "there are 5 keyword in exception handling :\n",
    "\n",
    "try, except,raise,else,finally\n",
    "if in try block statement showing error the statement in except block is executed menas except block handle error , if we want to raise any exception then we use raise keyword , when statemnt in try block is error free then statement in the else block is excuted and finally block is excuted whether the exception occured or not"
   ]
  },
  {
   "cell_type": "markdown",
   "id": "21c04d9e",
   "metadata": {},
   "source": [
    "# Q2. What happens if you don't do something extra to treat an exception?"
   ]
  },
  {
   "cell_type": "markdown",
   "id": "3bd2a6ee",
   "metadata": {},
   "source": [
    "When an exception occurred, if you don't handle it, the program terminates abruptly and the code past the line that caused the exception will not get executed."
   ]
  },
  {
   "cell_type": "markdown",
   "id": "fc1d82b7",
   "metadata": {},
   "source": [
    "# Q3. What are your options for recovering from an exception in your script?"
   ]
  },
  {
   "cell_type": "markdown",
   "id": "ea8f4f4c",
   "metadata": {},
   "source": [
    "for recovering an exception in my script i used exception handler , for handling the exception there are 5 keyword try, except, raise, else, finally\n",
    " \n",
    " \n",
    " A single try statement can have multiple except statements. This is useful when the try block contains statements that may throw different types of exceptions.\n",
    "\n",
    "You can also provide a generic except clause, which handles any exception.\n",
    "\n",
    "After the except clause(s), you can include an else-clause. The code in the else-block executes if the code in the try: block does not raise an exception.\n",
    "\n",
    "The else-block is a good place for code that does not need the try: block's protection."
   ]
  },
  {
   "cell_type": "markdown",
   "id": "4004fd6c",
   "metadata": {},
   "source": [
    "# Q4. Describe two methods for triggering exceptions in your script."
   ]
  },
  {
   "cell_type": "markdown",
   "id": "76fdba7c",
   "metadata": {},
   "source": [
    "Try – This method catches the exceptions raised by the program.\n",
    "Raise – Triggers an exception manually using custom exceptions."
   ]
  },
  {
   "cell_type": "markdown",
   "id": "d7ffff43",
   "metadata": {},
   "source": [
    "# Q5. Identify two methods for specifying actions to be executed at termination time, regardless of whether or not an exception exists."
   ]
  },
  {
   "cell_type": "markdown",
   "id": "817e9686",
   "metadata": {},
   "source": [
    "the raise statement specifies an argument which initializes the exception object . finally block always executes irrespective of an exception ocuur or not"
   ]
  },
  {
   "cell_type": "code",
   "execution_count": null,
   "id": "69e3c277",
   "metadata": {},
   "outputs": [],
   "source": []
  }
 ],
 "metadata": {
  "kernelspec": {
   "display_name": "Python 3 (ipykernel)",
   "language": "python",
   "name": "python3"
  },
  "language_info": {
   "codemirror_mode": {
    "name": "ipython",
    "version": 3
   },
   "file_extension": ".py",
   "mimetype": "text/x-python",
   "name": "python",
   "nbconvert_exporter": "python",
   "pygments_lexer": "ipython3",
   "version": "3.9.13"
  }
 },
 "nbformat": 4,
 "nbformat_minor": 5
}
