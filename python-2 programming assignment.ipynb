{
 "cells": [
  {
   "cell_type": "markdown",
   "id": "5c1dc011",
   "metadata": {},
   "source": [
    "# 1. Write a Python program to convert kilometers to miles?"
   ]
  },
  {
   "cell_type": "code",
   "execution_count": 11,
   "id": "50ae87f1",
   "metadata": {},
   "outputs": [
    {
     "name": "stdout",
     "output_type": "stream",
     "text": [
      "enter the number  67\n",
      "67.0 kilometer is equal to 41.631857000000004 miles\n"
     ]
    }
   ],
   "source": [
    "kilometer_1 = float(input(\"enter the number  \"))\n",
    "conversion_ratio = 0.621371\n",
    "miles = kilometer_1*conversion_ratio\n",
    "print(\"{} kilometer is equal to {} miles\".format(kilometer_1,miles))"
   ]
  },
  {
   "cell_type": "markdown",
   "id": "abd579ce",
   "metadata": {},
   "source": [
    "# 2. Write a Python program to convert Celsius to Fahrenheit?"
   ]
  },
  {
   "cell_type": "code",
   "execution_count": 12,
   "id": "d32621e5",
   "metadata": {},
   "outputs": [
    {
     "name": "stdout",
     "output_type": "stream",
     "text": [
      "enter the number  37.5\n",
      "37.5 celsius is equal to 99.5 fahrenheit \n"
     ]
    }
   ],
   "source": [
    "celsius = float(input(\"enter the number  \"))\n",
    "fahrenheit = (celsius * 1.8) + 32\n",
    "print(\"{} celsius is equal to {} fahrenheit \".format(celsius,fahrenheit))"
   ]
  },
  {
   "cell_type": "markdown",
   "id": "58d35392",
   "metadata": {},
   "source": [
    "# 3. Write a Python program to display calendar?"
   ]
  },
  {
   "cell_type": "code",
   "execution_count": 25,
   "id": "3d9a38d2",
   "metadata": {},
   "outputs": [
    {
     "name": "stdout",
     "output_type": "stream",
     "text": [
      "enter year: 2023\n",
      "enter month number: 2\n",
      "the calender of 2023 is    February 2023\n",
      "Mo Tu We Th Fr Sa Su\n",
      "       1  2  3  4  5\n",
      " 6  7  8  9 10 11 12\n",
      "13 14 15 16 17 18 19\n",
      "20 21 22 23 24 25 26\n",
      "27 28\n",
      ":\n"
     ]
    }
   ],
   "source": [
    "import calendar\n",
    "year = int(input(\"enter year: \"))\n",
    "month = int(input(\"enter month number: \"))\n",
    "calender=calendar.month(year,month)\n",
    "print(\"the calender of {} is {}:\".format(year,calender))\n"
   ]
  },
  {
   "cell_type": "code",
   "execution_count": 29,
   "id": "c0c0f34a",
   "metadata": {},
   "outputs": [
    {
     "name": "stdout",
     "output_type": "stream",
     "text": [
      "enter year: 2030\n",
      "enter month number: 7\n",
      "the calender of 2030 is      July 2030\n",
      "Mo Tu We Th Fr Sa Su\n",
      " 1  2  3  4  5  6  7\n",
      " 8  9 10 11 12 13 14\n",
      "15 16 17 18 19 20 21\n",
      "22 23 24 25 26 27 28\n",
      "29 30 31\n",
      ":\n"
     ]
    }
   ],
   "source": [
    "import calendar\n",
    "year = int(input(\"enter year: \"))\n",
    "month = int(input(\"enter month number: \"))\n",
    "calender=calendar.month(year,month)\n",
    "print(\"the calender of {} is {}:\".format(year,calender))\n"
   ]
  },
  {
   "cell_type": "markdown",
   "id": "466d761a",
   "metadata": {},
   "source": [
    "# 4. Write a Python program to solve quadratic equation?"
   ]
  },
  {
   "cell_type": "code",
   "execution_count": 33,
   "id": "41df5cac",
   "metadata": {},
   "outputs": [
    {
     "name": "stdout",
     "output_type": "stream",
     "text": [
      "enter value of a 9\n",
      "enter value of b 7\n",
      "enter value of c 4\n",
      "Complex Roots\n",
      "-0.3888888888888889  + i 9.746794344808963\n",
      "-0.3888888888888889  - i 9.746794344808963\n"
     ]
    }
   ],
   "source": [
    "import math \n",
    "  \n",
    "  \n",
    "# function for finding roots\n",
    "def equationroots( a, b, c): \n",
    "  \n",
    "    # calculating discriminant using formula\n",
    "    dis = b * b - 4 * a * c \n",
    "    sqrt_val = math.sqrt(abs(dis)) \n",
    "      \n",
    "    # checking condition for discriminant\n",
    "    if dis > 0: \n",
    "        print(\" real and different roots \") \n",
    "        print((-b + sqrt_val)/(2 * a)) \n",
    "        print((-b - sqrt_val)/(2 * a)) \n",
    "      \n",
    "    elif dis == 0: \n",
    "        print(\" real and same roots\") \n",
    "        print(-b / (2 * a)) \n",
    "      \n",
    "    # when discriminant is less than 0\n",
    "    else:\n",
    "        print(\"Complex Roots\") \n",
    "        print(- b / (2 * a), \" + i\", sqrt_val) \n",
    "        print(- b / (2 * a), \" - i\", sqrt_val) \n",
    "  \n",
    "\n",
    "a=int(input(\"enter value of a \"))\n",
    "b=int(input(\"enter value of b \"))\n",
    "c=int(input(\"enter value of c \"))\n",
    "  \n",
    "# If a is 0, then incorrect equation\n",
    "if a == 0: \n",
    "        print(\"Input correct quadratic equation\") \n",
    "  \n",
    "else:\n",
    "    equationroots(a, b, c)"
   ]
  },
  {
   "cell_type": "markdown",
   "id": "7539dc89",
   "metadata": {},
   "source": [
    "# 5. Write a Python program to swap two variables without temp variable?"
   ]
  },
  {
   "cell_type": "code",
   "execution_count": 40,
   "id": "fe3c6b7f",
   "metadata": {},
   "outputs": [
    {
     "name": "stdout",
     "output_type": "stream",
     "text": [
      "enter value of x best platform\n",
      "enter  value of y ineuron\n",
      "before swapping\n",
      "value of x is best platform and y is  ineuron : \n",
      "after swapping\n",
      "value of x is ineuron and y is best platform are: \n"
     ]
    }
   ],
   "source": [
    "x = input(\"enter value of x \")\n",
    "y = input(\"enter  value of y \")\n",
    "\n",
    "print(\"before swapping\")\n",
    "print(\"value of x is {} and y is  {} : \".format(x,y))\n",
    "\n",
    "x,y=y,x\n",
    "\n",
    "print(\"after swapping\")\n",
    "print(\"value of x is {} and y is {} are: \".format(x,y))\n"
   ]
  },
  {
   "cell_type": "code",
   "execution_count": null,
   "id": "7ffc7b56",
   "metadata": {},
   "outputs": [],
   "source": []
  }
 ],
 "metadata": {
  "kernelspec": {
   "display_name": "Python 3 (ipykernel)",
   "language": "python",
   "name": "python3"
  },
  "language_info": {
   "codemirror_mode": {
    "name": "ipython",
    "version": 3
   },
   "file_extension": ".py",
   "mimetype": "text/x-python",
   "name": "python",
   "nbconvert_exporter": "python",
   "pygments_lexer": "ipython3",
   "version": "3.9.13"
  }
 },
 "nbformat": 4,
 "nbformat_minor": 5
}
