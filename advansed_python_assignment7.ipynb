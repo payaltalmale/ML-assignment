{
 "cells": [
  {
   "cell_type": "markdown",
   "id": "91878e8b",
   "metadata": {},
   "source": [
    "# Q1. What is the purpose of the try statement?"
   ]
  },
  {
   "cell_type": "markdown",
   "id": "51d21c43",
   "metadata": {},
   "source": [
    "the try statement allow us to define a block of code to be tested for errors while it is being executed if there is a error the statement in the except block will be excuted"
   ]
  },
  {
   "cell_type": "markdown",
   "id": "4e859a13",
   "metadata": {},
   "source": [
    "# Q2. What are the two most popular try statement variations?"
   ]
  },
  {
   "cell_type": "markdown",
   "id": "8a943169",
   "metadata": {},
   "source": [
    "else and finally block will come after try and except block if the try block is error free then statement in else block is executed and finally block executed\n",
    "irrespective of there is error or not"
   ]
  },
  {
   "cell_type": "markdown",
   "id": "bb347bbd",
   "metadata": {},
   "source": [
    "# Q3. What is the purpose of the raise statement?"
   ]
  },
  {
   "cell_type": "markdown",
   "id": "3fc8e5e0",
   "metadata": {},
   "source": [
    " RAISE statements can raise predefined exceptions, such as ZERO_DIVIDE or NO_DATA_FOUND , or user-defined exceptions whose names you decide."
   ]
  },
  {
   "cell_type": "markdown",
   "id": "3b8225d5",
   "metadata": {},
   "source": [
    "# Q4. What does the assert statement do, and what other statement is it like?"
   ]
  },
  {
   "cell_type": "markdown",
   "id": "a530a207",
   "metadata": {},
   "source": [
    "the assert keyword is used when debugging code \n",
    "The assert keyword lets you test if a condition in your code returns True, if not, the program will raise an AssertionError.\n",
    "\n",
    "You can write a message to be written if the code returns False"
   ]
  },
  {
   "cell_type": "markdown",
   "id": "2f5da397",
   "metadata": {},
   "source": [
    "# Q5. What is the purpose of the with/as argument, and what other statement is it like?"
   ]
  },
  {
   "cell_type": "markdown",
   "id": "bbaefcb5",
   "metadata": {},
   "source": [
    "in python with statement used in exceeeption handling to make the code cleaner and much more readable . with statement helps avoiding bugs and leaks by ensuring that a resource is properly released when the code using the resource is completely executed"
   ]
  },
  {
   "cell_type": "code",
   "execution_count": null,
   "id": "ab471b64",
   "metadata": {},
   "outputs": [],
   "source": []
  }
 ],
 "metadata": {
  "kernelspec": {
   "display_name": "Python 3 (ipykernel)",
   "language": "python",
   "name": "python3"
  },
  "language_info": {
   "codemirror_mode": {
    "name": "ipython",
    "version": 3
   },
   "file_extension": ".py",
   "mimetype": "text/x-python",
   "name": "python",
   "nbconvert_exporter": "python",
   "pygments_lexer": "ipython3",
   "version": "3.9.13"
  }
 },
 "nbformat": 4,
 "nbformat_minor": 5
}
