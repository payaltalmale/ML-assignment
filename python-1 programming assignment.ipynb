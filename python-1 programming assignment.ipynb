{
 "cells": [
  {
   "cell_type": "markdown",
   "id": "12f34856",
   "metadata": {},
   "source": [
    "# 1. Write a Python program to print &quot;Hello Python&quot;?"
   ]
  },
  {
   "cell_type": "code",
   "execution_count": 1,
   "id": "b06b73fc",
   "metadata": {},
   "outputs": [
    {
     "name": "stdout",
     "output_type": "stream",
     "text": [
      "hello python\n"
     ]
    }
   ],
   "source": [
    "print(\"hello python\")"
   ]
  },
  {
   "cell_type": "markdown",
   "id": "ffa9374e",
   "metadata": {},
   "source": [
    "# 2. Write a Python program to do arithmetical operations addition and division.?"
   ]
  },
  {
   "cell_type": "code",
   "execution_count": 2,
   "id": "7e195b87",
   "metadata": {},
   "outputs": [
    {
     "name": "stdout",
     "output_type": "stream",
     "text": [
      "addition of two number is 13\n",
      "division of two number is 0.625\n"
     ]
    }
   ],
   "source": [
    "a=5\n",
    "b=8\n",
    "print(\"addition of two number is\", a+b)\n",
    "print(\"division of two number is\",a/b)"
   ]
  },
  {
   "cell_type": "markdown",
   "id": "12ccd8c9",
   "metadata": {},
   "source": [
    "# 3. Write a Python program to find the area of a triangle?"
   ]
  },
  {
   "cell_type": "code",
   "execution_count": 3,
   "id": "02cbdab9",
   "metadata": {},
   "outputs": [
    {
     "name": "stdout",
     "output_type": "stream",
     "text": [
      "the area of triangle is 5.0\n"
     ]
    }
   ],
   "source": [
    "base=2\n",
    "height=5\n",
    "area=1/2*base*height\n",
    "print(\"the area of triangle is\", area)"
   ]
  },
  {
   "cell_type": "markdown",
   "id": "98626af9",
   "metadata": {},
   "source": [
    "# 4. Write a Python program to swap two variables?"
   ]
  },
  {
   "cell_type": "code",
   "execution_count": 5,
   "id": "8c28bc4c",
   "metadata": {},
   "outputs": [
    {
     "name": "stdout",
     "output_type": "stream",
     "text": [
      "the value of a after swapping is:  8\n",
      "the value of b after swapping is:  4\n"
     ]
    }
   ],
   "source": [
    "a= 4\n",
    "b= 8\n",
    "'''swap the value of two varoable'''\n",
    "a,b=b,a\n",
    "print(\"the value of a after swapping is: \", a)\n",
    "print(\"the value of b after swapping is: \", b)"
   ]
  },
  {
   "cell_type": "markdown",
   "id": "05b735ff",
   "metadata": {},
   "source": [
    "# 5. Write a Python program to generate a random number?"
   ]
  },
  {
   "cell_type": "code",
   "execution_count": 7,
   "id": "e978bb73",
   "metadata": {},
   "outputs": [
    {
     "name": "stdout",
     "output_type": "stream",
     "text": [
      "73\n"
     ]
    }
   ],
   "source": [
    "import random\n",
    "n= random.randint(1,100)\n",
    "print(n)"
   ]
  }
 ],
 "metadata": {
  "kernelspec": {
   "display_name": "Python 3 (ipykernel)",
   "language": "python",
   "name": "python3"
  },
  "language_info": {
   "codemirror_mode": {
    "name": "ipython",
    "version": 3
   },
   "file_extension": ".py",
   "mimetype": "text/x-python",
   "name": "python",
   "nbconvert_exporter": "python",
   "pygments_lexer": "ipython3",
   "version": "3.9.13"
  }
 },
 "nbformat": 4,
 "nbformat_minor": 5
}
