{
 "cells": [
  {
   "cell_type": "markdown",
   "id": "b113db87",
   "metadata": {},
   "source": [
    "# Q1. What are the two latest user-defined exception constraints in Python 3.X?"
   ]
  },
  {
   "cell_type": "markdown",
   "id": "580a2b9d",
   "metadata": {},
   "source": [
    "ValueError and ZeroDivisionError these are the two latest user - defined exception in python"
   ]
  },
  {
   "cell_type": "markdown",
   "id": "44852d9f",
   "metadata": {},
   "source": [
    "# Q2. How are class-based exceptions that have been raised matched to handlers?\n",
    "\n",
    "These exceptions are defined by exception classes, from which an exception object can be created when an exception is raised (if a handler uses the addition INTO in except). A class-based exception can either cancel the current context or allow for a resume. Exceptions are raised using the statement RAISE EXCEPTION and handled using EXCEPT in a TRY control structure. Class-based exceptions can be raised in any procedures and can be further propagated by any procedures."
   ]
  },
  {
   "cell_type": "markdown",
   "id": "aefeb4ad",
   "metadata": {},
   "source": [
    "# Q3. Describe two methods for attaching context information to exception artefacts.\n",
    "\n",
    "1.argument exceptions It can be used to gain additional information about the error encountered.\n",
    "As contents of an Argument can vary depending upon different types of Exceptions in Python, Variables can be supplied to the Exceptions to capture the essence of the encountered errors. Same error can occur of different causes, Arguments helps us identify the specific cause for an error using the except clause.\n",
    "ex below  "
   ]
  },
  {
   "cell_type": "code",
   "execution_count": 1,
   "id": "b5f3744c",
   "metadata": {},
   "outputs": [
    {
     "name": "stdout",
     "output_type": "stream",
     "text": [
      "This is the Argument\n",
      " division by zero\n"
     ]
    }
   ],
   "source": [
    "try:\n",
    "    b = float(100 + 50 / 0)\n",
    "except Exception as Argument:\n",
    "    print( 'This is the Argument\\n', Argument)"
   ]
  },
  {
   "cell_type": "markdown",
   "id": "c66bb00e",
   "metadata": {},
   "source": [
    "# Q4. Describe two methods for specifying the text of an exception object&#39;s error message."
   ]
  },
  {
   "cell_type": "markdown",
   "id": "60d41104",
   "metadata": {},
   "source": [
    "To catch and print an exception that occurred in a code snippet, wrap it in an indented try block, followed by the command \"except Exception as e\" that catches the exception and saves its error message in string variable e . You can now print the error message with \"print(e)\" or use it for further processing."
   ]
  },
  {
   "cell_type": "markdown",
   "id": "cb7797f9",
   "metadata": {},
   "source": [
    "# Q5. Why do you no longer use string-based exceptions?\n",
    "\n",
    "This is because a string is a sequence; we must assume that error messages are always more than two characters long!"
   ]
  },
  {
   "cell_type": "code",
   "execution_count": null,
   "id": "1231cd6c",
   "metadata": {},
   "outputs": [],
   "source": []
  }
 ],
 "metadata": {
  "kernelspec": {
   "display_name": "Python 3 (ipykernel)",
   "language": "python",
   "name": "python3"
  },
  "language_info": {
   "codemirror_mode": {
    "name": "ipython",
    "version": 3
   },
   "file_extension": ".py",
   "mimetype": "text/x-python",
   "name": "python",
   "nbconvert_exporter": "python",
   "pygments_lexer": "ipython3",
   "version": "3.9.13"
  }
 },
 "nbformat": 4,
 "nbformat_minor": 5
}
