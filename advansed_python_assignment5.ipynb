{
 "cells": [
  {
   "cell_type": "markdown",
   "id": "51637c9e",
   "metadata": {},
   "source": [
    "# Q1. What is the meaning of multiple inheritance?"
   ]
  },
  {
   "cell_type": "markdown",
   "id": "1f7bf607",
   "metadata": {},
   "source": [
    "multiple inheritance is a inheritance in which object or class can inherit property from more than one parent class \n"
   ]
  },
  {
   "cell_type": "code",
   "execution_count": null,
   "id": "3ce70942",
   "metadata": {},
   "outputs": [],
   "source": [
    "#syntax \n",
    "class A:\n",
    "    pass\n",
    "class B:\n",
    "    pass\n",
    "class C(A,B):\n",
    "    pass"
   ]
  },
  {
   "cell_type": "markdown",
   "id": "709e9d33",
   "metadata": {},
   "source": [
    "# Q2. What is the concept of delegation?"
   ]
  },
  {
   "cell_type": "markdown",
   "id": "ac60db54",
   "metadata": {},
   "source": [
    "Delegation is an object oriented technique (also called a design pattern). Let's say you have an object x and want to change the behaviour of just one of its methods. You can create a new class that provides a new implementation of the method you're interested in changing and delegates all other methods to the corresponding method of x.\n",
    "\n",
    "Python programmers can easily implement delegation. For example, the following class implements a class that behaves like a file but converts all written data to uppercase:\n",
    "\n",
    "class UpperOut:\n",
    "def __init__(self, outfile):\n",
    "self.__outfile = outfile\n",
    "def write(self, s):\n",
    "self.__outfile.write(s.upper())\n",
    "def __getattr__(self, name):\n",
    "return getattr(self.__outfile, name)\n",
    "\n",
    "Here the UpperOut class redefines the write() method to convert the argument string to uppercase before calling the underlying self.__outfile.write() method. All other methods are delegated to the underlying self.__outfile object. The delegation is accomplished via the __getattr__ method"
   ]
  },
  {
   "cell_type": "markdown",
   "id": "3bf803f6",
   "metadata": {},
   "source": [
    "# Q3. What is the concept of composition?"
   ]
  },
  {
   "cell_type": "markdown",
   "id": "f9481b7b",
   "metadata": {},
   "source": [
    "Composition is a concept that models a has a relationship. It enables creating complex types by combining objects of other types. This means that a class Composite can contain an object of another class Component . This relationship means that a Composite has a Component ."
   ]
  },
  {
   "cell_type": "markdown",
   "id": "7d8d6edf",
   "metadata": {},
   "source": [
    "# Q4. What are bound methods and how do we use them?"
   ]
  },
  {
   "cell_type": "markdown",
   "id": "72d42fcd",
   "metadata": {},
   "source": [
    "The Bound methods are the methods defined in a class. The bound methods are bound to the class in which they are defined. They take an instance of their class along with the other arguments as its parameters. Bound methods differ from the other unbound methods in their first parameter."
   ]
  },
  {
   "cell_type": "markdown",
   "id": "ab36425c",
   "metadata": {},
   "source": [
    "# Q5. What is the purpose of pseudoprivate attributes?"
   ]
  },
  {
   "cell_type": "markdown",
   "id": "07d9df22",
   "metadata": {},
   "source": [
    "One of the main problems that the pseudoprivate attribute feature is meant to alleviate has to do with the way instance attributes are stored. In Python, all instance attributes wind up in the single instance object at the bottom of the class tree."
   ]
  },
  {
   "cell_type": "code",
   "execution_count": null,
   "id": "20737e71",
   "metadata": {},
   "outputs": [],
   "source": []
  }
 ],
 "metadata": {
  "kernelspec": {
   "display_name": "Python 3 (ipykernel)",
   "language": "python",
   "name": "python3"
  },
  "language_info": {
   "codemirror_mode": {
    "name": "ipython",
    "version": 3
   },
   "file_extension": ".py",
   "mimetype": "text/x-python",
   "name": "python",
   "nbconvert_exporter": "python",
   "pygments_lexer": "ipython3",
   "version": "3.9.13"
  }
 },
 "nbformat": 4,
 "nbformat_minor": 5
}
