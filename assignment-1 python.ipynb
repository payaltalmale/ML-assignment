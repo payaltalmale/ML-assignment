{
 "cells": [
  {
   "cell_type": "markdown",
   "id": "76718a12",
   "metadata": {},
   "source": [
    "# 1.what does one mean by the term \"machine learning\"?\n",
    "machine learning is a set of algorithm to make machine learn,predict and make decision"
   ]
  },
  {
   "cell_type": "markdown",
   "id": "0711486b",
   "metadata": {},
   "source": [
    "# 2.can you think of 4 distinct types of issues where it shines?\n",
    "\n",
    "1. spam detection in email\n",
    "2. cancer diagnosis\n",
    "3. fraudulent credit card transactions\n",
    "4. automatically driving vehicle"
   ]
  },
  {
   "cell_type": "markdown",
   "id": "45af1b4f",
   "metadata": {},
   "source": [
    "# 3.what is a labeled training set,and how does it work?\n",
    "\n",
    "The training set is used to train the algorithm, and then you use the trained model on the test set to predict the response variable values that are already known. The final step is to compare the predicted responses against the actual (observed) responses to see how close they are."
   ]
  },
  {
   "cell_type": "markdown",
   "id": "36ec908d",
   "metadata": {},
   "source": [
    "# 4.What are the two most important tasks that are supervised?\n",
    "\n",
    "The two most common supervised tasks are regression and classification"
   ]
  },
  {
   "cell_type": "markdown",
   "id": "15f0a359",
   "metadata": {},
   "source": [
    "# 5.Can you think of four examples of unsupervised tasks?\n",
    "Common unsupervised tasks include clustering, visualization, dimensionality reduction, and association rule learning."
   ]
  },
  {
   "cell_type": "markdown",
   "id": "74a0a3ab",
   "metadata": {},
   "source": [
    "# 6.State the machine learning model that would be best to make a robot walk through various unfamiliar terrains?\n",
    "\n",
    "The best Machine Learning algorithm to allow a robot to walk in unknown terrain is Reinforced Learning, where the robot can learn from response of the terrain to optimize itself."
   ]
  },
  {
   "cell_type": "markdown",
   "id": "e07df5d8",
   "metadata": {},
   "source": [
    "# 7.Which algorithm will you use to divide your customers into different groups?\n",
    "\n",
    "One very common machine learning algorithm that's suitable for customer segmentation problems is the k-means clustering algorithm"
   ]
  },
  {
   "cell_type": "markdown",
   "id": "89becf45",
   "metadata": {},
   "source": [
    "# 8.Will you consider the problem of spam detection to be a supervised or unsupervised learning problem?\n",
    "\n",
    "Spam detection is a supervised machine learning problem"
   ]
  },
  {
   "cell_type": "markdown",
   "id": "ea72ed9c",
   "metadata": {},
   "source": [
    "# 9.What is the concept of an online learning system?\n",
    "\n",
    "n computer science, online machine learning is a method of machine learning in which data becomes available in a sequential order and is used to update the best predictor for future data at each step, as opposed to batch learning techniques which generate the best predictor by learning on the entire training data set \n"
   ]
  },
  {
   "cell_type": "markdown",
   "id": "0ddd8df3",
   "metadata": {},
   "source": [
    "# 10.What is out-of-core learning, and how does it differ from core learning?\n",
    "\n",
    "it is a way to train your model on data that cannot fit your core memory.” Out-of-core learning refers to the machine learning algorithms working with data that cannot fit into a single machine's memory but can easily fit into some data storage, such as a local hard disk or web repository."
   ]
  },
  {
   "cell_type": "markdown",
   "id": "45822e54",
   "metadata": {},
   "source": [
    "# 11.What kind of learning algorithm makes predictions using a similarity measure?\n",
    "Learning algorithm that relies on a similarity measure to make predictions is instance-based algorithm."
   ]
  },
  {
   "cell_type": "markdown",
   "id": "78ddcdd7",
   "metadata": {},
   "source": [
    "# 12.What is the difference between a model parameter and a hyperparameter in a learning algorithm?\n",
    "\n",
    "In summary, model parameters are estimated from data automatically and model hyperparameters are set manually and are used in processes to help estimate model parameters. Model hyperparameters are often referred to as parameters because they are the parts of the machine learning that must be set manually and tuned"
   ]
  },
  {
   "cell_type": "markdown",
   "id": "3623450f",
   "metadata": {},
   "source": [
    "# 13.What are the criteria that model-based learning algorithms look for? What is the most popular\n",
    "\n",
    "Model based learning algorithm search for the optimal value of parameters in a model that will give the best results for the new instances. We often use a cost function or similar to determine what the parameter value has to be in order to minimize the function"
   ]
  },
  {
   "cell_type": "markdown",
   "id": "ec553a24",
   "metadata": {},
   "source": [
    "# 14.Can you name four of the most important Machine Learning challenges?\n",
    "Four main challenges in Machine Learning include overfitting the data (using a model too complicated), underfitting the data (using a simple model), lacking in data and nonrepresentative data."
   ]
  },
  {
   "cell_type": "markdown",
   "id": "b6bb0c18",
   "metadata": {},
   "source": [
    "# 15.What happens if the model performs well on the training data but fails to generalize the resultsto new situations? Can you think of three different options?\n",
    "\n",
    "1. Misalignment between actual business needs and machine learning objectives\n",
    "2. Machine learning model training that doesn’t generalize\n",
    "3. Machine learning testing and validation issues\n",
    "4. Machine learning deployment and serving hurdles"
   ]
  },
  {
   "cell_type": "markdown",
   "id": "b99de8ce",
   "metadata": {},
   "source": [
    "# 16.What exactly is a test set, and why would you need one?\n",
    "A test set in machine learning is a secondary (or tertiary) data set that is used to test a machine learning program after it has been trained on an initial training data set.\n",
    "The point of a test set is to give you a final, unbiased performance measure of your entire model building process."
   ]
  },
  {
   "cell_type": "markdown",
   "id": "c8464587",
   "metadata": {},
   "source": [
    "# 17.What is a validation set's purpose?\n",
    "A validation set is a set of data used to train artificial intelligence (AI) with the goal of finding and optimizing the best model to solve a given problem. Validation sets are also known as dev sets. A supervised AI is trained on a corpus of training data."
   ]
  },
  {
   "cell_type": "markdown",
   "id": "32a94a3c",
   "metadata": {},
   "source": [
    "# 18.What precisely is the train-dev kit, when will you need it, how do you put it to use?\n",
    "The goal of dev-set is to rank the models in term of their accuracy and helps us decide which model to proceed further with. Using Dev set we rank all our models in terms of their accuracy and pick the best performing model."
   ]
  },
  {
   "cell_type": "markdown",
   "id": "fc8542de",
   "metadata": {},
   "source": [
    "# 19.What could go wrong if you use the test set to tune hyperparameters?\n",
    "The model will not generalize well to unseen data because it overfits the test set. Tuning model hyper-parameters to a test set means that the hyper-parameters may overfit to that test set. If the same test set is used to estimate performance, it will produce an overestimate"
   ]
  },
  {
   "cell_type": "code",
   "execution_count": null,
   "id": "93f42534",
   "metadata": {},
   "outputs": [],
   "source": []
  }
 ],
 "metadata": {
  "kernelspec": {
   "display_name": "Python 3 (ipykernel)",
   "language": "python",
   "name": "python3"
  },
  "language_info": {
   "codemirror_mode": {
    "name": "ipython",
    "version": 3
   },
   "file_extension": ".py",
   "mimetype": "text/x-python",
   "name": "python",
   "nbconvert_exporter": "python",
   "pygments_lexer": "ipython3",
   "version": "3.9.13"
  }
 },
 "nbformat": 4,
 "nbformat_minor": 5
}
