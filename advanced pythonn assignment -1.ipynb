{
 "cells": [
  {
   "cell_type": "markdown",
   "id": "8f255c14",
   "metadata": {},
   "source": [
    "# Q1. What is the purpose of Python&#39;s OOP?"
   ]
  },
  {
   "cell_type": "markdown",
   "id": "d0a1f56c",
   "metadata": {},
   "source": [
    "in object oriented programming we are write a code in classes and object\n",
    "we can write a code without classes and function it will be simple script\n",
    "but there won't be any security in our code as well as our code redundancy very very high, it will be taking higher space, highest time and time complexity and space complexicity very very high with respect to code there are many issue in our code for solving this issue we came up with functional approach but there we have also few disadvantages means in procedure oriented programming no security with respect to code any one can access the data by calling the function  and it is difficult to achieve real world scenario and it is difficult to create new data type\n",
    "\n",
    "using object oriented programming we can achieve security, we can achieve real world scenario and we can achieve code reusability all this problem we are able to solve using oop so the oop comes into picture"
   ]
  },
  {
   "cell_type": "markdown",
   "id": "8d47e807",
   "metadata": {},
   "source": [
    "# Q2. Where does an inheritance search look for an attribute?"
   ]
  },
  {
   "cell_type": "markdown",
   "id": "594c6a7d",
   "metadata": {},
   "source": [
    "An inheritance search look for an attribute first in the instance object,then in the class then in all higher uperclasses , the search at the first b place the attribute is found"
   ]
  },
  {
   "cell_type": "markdown",
   "id": "bdcb1fec",
   "metadata": {},
   "source": [
    "# Q3. How do you distinguish between a class object and an instance object?\n"
   ]
  },
  {
   "cell_type": "markdown",
   "id": "436b1158",
   "metadata": {},
   "source": [
    "Everything in Python is an object such as integers, lists, dictionaries, functions and so on. Every object has a type and the object types are created using classes. Instance is an object that belongs to a particular instance method of a class. and class object is an object that belong to all instance method"
   ]
  },
  {
   "cell_type": "markdown",
   "id": "a16598c7",
   "metadata": {},
   "source": [
    "# Q4. What makes the first argument in a class’s method function special?"
   ]
  },
  {
   "cell_type": "markdown",
   "id": "929df9db",
   "metadata": {},
   "source": [
    "The calling process is automatic while the receiving process is not (its explicit). This is the reason the first parameter of a function in class must be the object itself. Writing this parameter as self is merely a convention. It is not a keyword and has no special meaning in Python."
   ]
  },
  {
   "cell_type": "markdown",
   "id": "7eaccee2",
   "metadata": {},
   "source": [
    "# Q5. What is the purpose of the __init__ method?\n",
    "\n",
    "__init__ is a special method ,it is a constructor and constructor are those method which will be call immediately(automatically) whenever we create object from a class"
   ]
  },
  {
   "cell_type": "markdown",
   "id": "7ad65a14",
   "metadata": {},
   "source": [
    "# Q6. What is the process for creating a class instance?\n",
    "\n",
    "Use the class name to create a new instance ... Call ClassName() to create a new instance of the class ClassName . ... To pass parameters to the class instance, the ...\n"
   ]
  },
  {
   "cell_type": "markdown",
   "id": "01c36b36",
   "metadata": {},
   "source": [
    "# Q7. What is the process for creating a class?\n",
    "\n",
    "1. write class keyword \n",
    "2. write classname like human then colon e.g -- class human:\n",
    "3. write code inside that whatever you want means inside class there will be variable(attribute) and function(method)\n",
    "4. create object for that class like ram e.g ram=human()"
   ]
  },
  {
   "cell_type": "markdown",
   "id": "b5c886ae",
   "metadata": {},
   "source": [
    "# Q8. How would you define the superclasses of a class?\n",
    "\n",
    "The class from which a class inherits is called the parent or superclass. A class which inherits from a superclass is called a subclass, also called heir class or child class"
   ]
  },
  {
   "cell_type": "code",
   "execution_count": null,
   "id": "00a4d5e1",
   "metadata": {},
   "outputs": [],
   "source": []
  }
 ],
 "metadata": {
  "kernelspec": {
   "display_name": "Python 3 (ipykernel)",
   "language": "python",
   "name": "python3"
  },
  "language_info": {
   "codemirror_mode": {
    "name": "ipython",
    "version": 3
   },
   "file_extension": ".py",
   "mimetype": "text/x-python",
   "name": "python",
   "nbconvert_exporter": "python",
   "pygments_lexer": "ipython3",
   "version": "3.9.13"
  }
 },
 "nbformat": 4,
 "nbformat_minor": 5
}
