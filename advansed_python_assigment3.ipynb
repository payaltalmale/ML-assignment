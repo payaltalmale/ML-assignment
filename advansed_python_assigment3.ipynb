{
 "cells": [
  {
   "cell_type": "markdown",
   "id": "79264f50",
   "metadata": {},
   "source": [
    "# 1. What is the concept of an abstract superclass?\n",
    "\n",
    "an abstract class is a class  its purpose not only create object from class its purpose is to define how other classes should like  i.e. what methods and properties they are expected to have.The methods and properties defined (but not implemented) in an abstract class are called abstract methods and abstract properties. All abstract methods and properties need to be implemented in a child class in order to be able to create objects from it  "
   ]
  },
  {
   "cell_type": "markdown",
   "id": "25686557",
   "metadata": {},
   "source": [
    "# 2. What happens when a class statement&#39;s top level contains a basic assignment statement?\n",
    "\n",
    "\n",
    "“Top-level code” is the first user-specified Python module that starts running. It's “top-level” because it imports all other modules that the program needs. Sometimes “top-level code” is called an entry point to the application."
   ]
  },
  {
   "cell_type": "markdown",
   "id": "0322ea82",
   "metadata": {},
   "source": [
    "#  3. Why does a class need to manually call a superclass&#39;s __init__ method?\n",
    "\n",
    "suoer()__init__ method return an object that represent the parent class"
   ]
  },
  {
   "cell_type": "markdown",
   "id": "e9dd3732",
   "metadata": {},
   "source": [
    "# 4. How can you augment, instead of completely replacing, an inherited method?\n",
    "\n",
    "A more sophisticated way to augment an inherited method involves forwarding. Message forwarding allows you to augment an inherited method in such a way that it can perform its inherited action and some new actionm that of a function?"
   ]
  },
  {
   "cell_type": "markdown",
   "id": "c6c2ac12",
   "metadata": {},
   "source": [
    "# 5. How is the local scope of a class different from that of a function?\n",
    "\n",
    "If the variable is declared without self then it is accessible within that function only is called local scpe of a class  both local scope of class and function are same local variab;le of function are only used in only that function"
   ]
  },
  {
   "cell_type": "code",
   "execution_count": null,
   "id": "f2664584",
   "metadata": {},
   "outputs": [],
   "source": []
  }
 ],
 "metadata": {
  "kernelspec": {
   "display_name": "Python 3 (ipykernel)",
   "language": "python",
   "name": "python3"
  },
  "language_info": {
   "codemirror_mode": {
    "name": "ipython",
    "version": 3
   },
   "file_extension": ".py",
   "mimetype": "text/x-python",
   "name": "python",
   "nbconvert_exporter": "python",
   "pygments_lexer": "ipython3",
   "version": "3.9.13"
  }
 },
 "nbformat": 4,
 "nbformat_minor": 5
}
