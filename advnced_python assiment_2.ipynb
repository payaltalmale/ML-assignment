{
 "cells": [
  {
   "cell_type": "markdown",
   "id": "cf804a9c",
   "metadata": {},
   "source": [
    "# Q1. What is the relationship between classes and modules?"
   ]
  },
  {
   "cell_type": "markdown",
   "id": "1f445125",
   "metadata": {},
   "source": [
    "class is a type like int ,float,string and module in python is simply way to organize the code and it contains either class or function . if we need those classes or function in our project we  need to just import them"
   ]
  },
  {
   "cell_type": "markdown",
   "id": "77fd0332",
   "metadata": {},
   "source": [
    "# Q2. How do you make instances and classes?"
   ]
  },
  {
   "cell_type": "markdown",
   "id": "ffae1df1",
   "metadata": {},
   "source": [
    "instances of a class is an object . it is also known as class object or class instance ,to create instanses of a class , we need to call the class using class name and pass in whatever argument it __init__ method accept"
   ]
  },
  {
   "cell_type": "markdown",
   "id": "808fbb6b",
   "metadata": {},
   "source": [
    "# Q3. Where and how should be class attributes created?"
   ]
  },
  {
   "cell_type": "markdown",
   "id": "95cf937c",
   "metadata": {},
   "source": [
    "class attribute is created outside of the __init__ method , class attribute belong to entire class we can access any object using class attribute,\n",
    "\n",
    "we can access class attribute using :\n",
    "\n",
    "object_name.class_attribute or \n",
    "class_name.class_attribute\n",
    "\n",
    "class attributes are useful in storing class constant, tracking data across all instances, and defining default values\n"
   ]
  },
  {
   "cell_type": "markdown",
   "id": "d8d9c1cf",
   "metadata": {},
   "source": [
    "# Q4. Where and how are instance attributes created?"
   ]
  },
  {
   "cell_type": "markdown",
   "id": "5f1e0410",
   "metadata": {},
   "source": [
    "instance attribute defined inside a constructor method using self parameter.\n",
    "within __init_ we pass the first paramter self which represent an object from a class and we atttach instance attribute to this object using dot operator"
   ]
  },
  {
   "cell_type": "markdown",
   "id": "004b382e",
   "metadata": {},
   "source": [
    "# Q5. What does the term &quot;self&quot; in a Python class mean?"
   ]
  },
  {
   "cell_type": "markdown",
   "id": "d4a99e18",
   "metadata": {},
   "source": [
    "self keyword is a positional argument is used to represent instance(object) of the given class , using this keyword we can access instance attribute and methods of the class  . self must be provided as a first parameter to the instance method"
   ]
  },
  {
   "cell_type": "markdown",
   "id": "57101f8e",
   "metadata": {},
   "source": [
    "# Q6. How does a Python class handle operator overloading?"
   ]
  },
  {
   "cell_type": "markdown",
   "id": "19128f62",
   "metadata": {},
   "source": [
    "The operator overloading in Python means provide extended meaning beyond their predefined operational meaning. Such as, we use the \"+\" operator for adding two integers as well as joining two strings or merging two lists. We can achieve this as the \"+\" operator is overloaded by the \"int\" class and \"str\" class."
   ]
  },
  {
   "cell_type": "markdown",
   "id": "c6d3be89",
   "metadata": {},
   "source": [
    "# Q7. When do you consider allowing operator overloading of your classes?"
   ]
  },
  {
   "cell_type": "markdown",
   "id": "bddbf38f",
   "metadata": {},
   "source": [
    "You’ve probably wondered why the same built-in operator or function behaves differently for objects of different classes. This is known as Python operator overloading or Python function overloading. For example, the operator ‘+‘ can be used to add two integers, join two strings, or merge two lists. It is possible since the ‘+’ operator is overloaded by the int and str classes. Let us understand this by looking at an example below,\n",
    "\n"
   ]
  },
  {
   "cell_type": "markdown",
   "id": "b4cca357",
   "metadata": {},
   "source": [
    "# Q8. What is the most popular form of operator overloading?"
   ]
  },
  {
   "cell_type": "markdown",
   "id": "faa5fa31",
   "metadata": {},
   "source": [
    "A very popular and convenient example is the Addition (+) operator. Just think how the '+' operator operates on two numbers and the same operator operates on two strings. It performs “Addition” on numbers whereas it performs “Concatenation” on strings."
   ]
  },
  {
   "cell_type": "markdown",
   "id": "2306a9f5",
   "metadata": {},
   "source": [
    "# Q9. What are the two most important concepts to grasp in order to comprehend Python OOP code?"
   ]
  },
  {
   "cell_type": "markdown",
   "id": "c145dcec",
   "metadata": {},
   "source": [
    "inheritance and polymorphism are fundamental concepts of object oriented programming. These concepts help us to create code that can be extended and easily maintainable."
   ]
  },
  {
   "cell_type": "code",
   "execution_count": null,
   "id": "1327c37a",
   "metadata": {},
   "outputs": [],
   "source": []
  }
 ],
 "metadata": {
  "kernelspec": {
   "display_name": "Python 3 (ipykernel)",
   "language": "python",
   "name": "python3"
  },
  "language_info": {
   "codemirror_mode": {
    "name": "ipython",
    "version": 3
   },
   "file_extension": ".py",
   "mimetype": "text/x-python",
   "name": "python",
   "nbconvert_exporter": "python",
   "pygments_lexer": "ipython3",
   "version": "3.9.13"
  }
 },
 "nbformat": 4,
 "nbformat_minor": 5
}
