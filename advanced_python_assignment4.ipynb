{
 "cells": [
  {
   "cell_type": "markdown",
   "id": "b74187c6",
   "metadata": {},
   "source": [
    "# Q1. Which two operator overloading methods can you use in your classes to support iteration?"
   ]
  },
  {
   "cell_type": "markdown",
   "id": "17ec8c19",
   "metadata": {},
   "source": [
    "__iter__ method and __next__ method, The __iter__ returns the iterator object and is implicitly called at the start of loops. The __next__ method returns the next value and is implicitly called at each loop increment. __next__ raises a StopIteration exception when there are no more value to return, which is implicitly captured by looping constructs to stop iterating.\n"
   ]
  },
  {
   "cell_type": "markdown",
   "id": "b1ca4d6b",
   "metadata": {},
   "source": [
    "# Q2. In what contexts do the two operator overloading methods manage printing?"
   ]
  },
  {
   "cell_type": "markdown",
   "id": "3dcaf386",
   "metadata": {},
   "source": [
    "in Python, this can be achieved by using __repr__ or __str__ methods. __repr__ is used if we need a detailed information for debugging while __str__ is used to print a string version for the users. Important Points about Printing: Python uses __repr__ method if there is no __str__ method"
   ]
  },
  {
   "cell_type": "markdown",
   "id": "e524b810",
   "metadata": {},
   "source": [
    "# Q3. In a class, how do you intercept slice operations?"
   ]
  },
  {
   "cell_type": "markdown",
   "id": "ec211f13",
   "metadata": {},
   "source": [
    "slice operation is work as a renge() function syntax of slice operation is slice[start:stop:end] if i want substring from given string in that slice operation is used"
   ]
  },
  {
   "cell_type": "markdown",
   "id": "59ccdd0d",
   "metadata": {},
   "source": [
    "# Q4. In a class, how do you capture in-place addition?"
   ]
  },
  {
   "cell_type": "markdown",
   "id": "baa1a71c",
   "metadata": {},
   "source": [
    "You can set up the in-place addition behavior for your own class by overriding the magic “dunder” method __iadd__(self, other) in your class definition"
   ]
  },
  {
   "cell_type": "markdown",
   "id": "5b553018",
   "metadata": {},
   "source": [
    "# Q5. When is it appropriate to use operator overloading?"
   ]
  },
  {
   "cell_type": "markdown",
   "id": "567a65da",
   "metadata": {},
   "source": [
    " the purpose of operator overloading is to provide a special meaning of an operator for a user-defined data type. With the help of operator overloading, "
   ]
  }
 ],
 "metadata": {
  "kernelspec": {
   "display_name": "Python 3 (ipykernel)",
   "language": "python",
   "name": "python3"
  },
  "language_info": {
   "codemirror_mode": {
    "name": "ipython",
    "version": 3
   },
   "file_extension": ".py",
   "mimetype": "text/x-python",
   "name": "python",
   "nbconvert_exporter": "python",
   "pygments_lexer": "ipython3",
   "version": "3.9.13"
  }
 },
 "nbformat": 4,
 "nbformat_minor": 5
}
